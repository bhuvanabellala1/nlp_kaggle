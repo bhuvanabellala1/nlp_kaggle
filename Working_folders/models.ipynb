{
 "cells": [
  {
   "cell_type": "code",
   "execution_count": 1,
   "metadata": {
    "collapsed": false
   },
   "outputs": [
    {
     "name": "stderr",
     "output_type": "stream",
     "text": [
      "//anaconda/lib/python3.4/site-packages/sklearn/cross_validation.py:44: DeprecationWarning: This module was deprecated in version 0.18 in favor of the model_selection module into which all the refactored classes and functions are moved. Also note that the interface of the new CV iterators are different from that of this module. This module will be removed in 0.20.\n",
      "  \"This module will be removed in 0.20.\", DeprecationWarning)\n"
     ]
    }
   ],
   "source": [
    "import pandas as pd\n",
    "import numpy as np\n",
    "from sklearn.cross_validation import train_test_split\n",
    "from sklearn.naive_bayes import MultinomialNB\n",
    "from sklearn.cross_validation import cross_val_score\n",
    "from sklearn.feature_extraction.text import CountVectorizer, TfidfVectorizer\n",
    "from sklearn.feature_extraction.text import strip_tags\n",
    "from sklearn.linear_model import LogisticRegression\n",
    "from sklearn import metrics"
   ]
  },
  {
   "cell_type": "code",
   "execution_count": 2,
   "metadata": {
    "collapsed": false
   },
   "outputs": [
    {
     "name": "stdout",
     "output_type": "stream",
     "text": [
      "train data done\n"
     ]
    }
   ],
   "source": [
    "file = 'yelp_data_official_training.csv'\n",
    "df = pd.DataFrame(columns=['id', 'category', 'review'])\n",
    "i = 0\n",
    "with open(file, encoding=\"utf8\") as f:\n",
    "    f.readline()\n",
    "    for line in f:\n",
    "        line = line.rstrip('\\n').split('|')\n",
    "        if len(line) > 1:\n",
    "            if i != 0:\n",
    "                one_record['review'] = review\n",
    "                #print(one_record)\n",
    "                df = df.append(one_record, ignore_index=True)\n",
    "            if line[0] == str(i):\n",
    "                one_record = {}\n",
    "                one_record['id'] = int(line[0])\n",
    "                one_record['category'] = int(line[1])\n",
    "                review = line[2]\n",
    "            i += 1\n",
    "            \n",
    "        else:\n",
    "            review += ' ' + line[0]           \n",
    "    one_record['review'] = review\n",
    "    df = df.append(one_record, ignore_index=True)\n",
    "print ('train data done')"
   ]
  },
  {
   "cell_type": "code",
   "execution_count": 3,
   "metadata": {
    "collapsed": false
   },
   "outputs": [],
   "source": [
    "def make_xy(reviews, vectorizer=False, if_y=True):\n",
    "    if not vectorizer:\n",
    "        vectorizer = CountVectorizer() #min_df=5, stop_words='english', max_df=0.2\n",
    "        vectorizer.fit(reviews['review'].tolist())\n",
    "    x = vectorizer.transform(reviews['review'].tolist())\n",
    "    if if_y:\n",
    "        Y = np.asarray(reviews['category'])\n",
    "        return x, Y, vectorizer\n",
    "    else:\n",
    "        return x, vectorizer\n",
    "\n",
    "X, Y, vect = make_xy(df)\n",
    "X_train, X_test, y_train, y_test = train_test_split(X, Y, test_size=0.35, random_state=0)"
   ]
  },
  {
   "cell_type": "code",
   "execution_count": 4,
   "metadata": {
    "collapsed": false
   },
   "outputs": [
    {
     "data": {
      "text/plain": [
       "MultinomialNB(alpha=1.0, class_prior=None, fit_prior=True)"
      ]
     },
     "execution_count": 4,
     "metadata": {},
     "output_type": "execute_result"
    }
   ],
   "source": [
    "vectorizer = CountVectorizer(binary=False, min_df=5, stop_words='english', max_df=0.2) \n",
    "vectorizer.fit(df['review'].tolist())\n",
    "X, Y, v_new = make_xy(df, vectorizer)\n",
    "# logreg = LogisticRegression(C=0.1, intercept_scaling=1, dual=False, fit_intercept=True,\n",
    "#           penalty='l2', tol=0.0001)\n",
    "fitted_model = MultinomialNB()\n",
    "fitted_model.fit(X, Y)"
   ]
  },
  {
   "cell_type": "code",
   "execution_count": 5,
   "metadata": {
    "collapsed": false
   },
   "outputs": [],
   "source": [
    "score = cross_val_score(fitted_model, X, Y, scoring='accuracy').mean()"
   ]
  },
  {
   "cell_type": "code",
   "execution_count": 6,
   "metadata": {
    "collapsed": false
   },
   "outputs": [
    {
     "name": "stdout",
     "output_type": "stream",
     "text": [
      "accuracy: 0.880918930219\n"
     ]
    }
   ],
   "source": [
    "print('accuracy: ' + str(score))"
   ]
  },
  {
   "cell_type": "code",
   "execution_count": 10,
   "metadata": {
    "collapsed": false
   },
   "outputs": [],
   "source": [
    "import nltk\n",
    "from nltk.stem.porter import PorterStemmer\n",
    "\n",
    "def tokenize(text):\n",
    "    tokens = nltk.word_tokenize(text)\n",
    "    stems = []\n",
    "    for item in tokens:\n",
    "        stems.append(PorterStemmer().stem(item))\n",
    "    return stems\n",
    "\n",
    "\n",
    "tfidf = TfidfVectorizer(tokenizer=tokenize, stop_words='english',sublinear_tf = True)"
   ]
  },
  {
   "cell_type": "code",
   "execution_count": 11,
   "metadata": {
    "collapsed": false
   },
   "outputs": [],
   "source": [
    "X = tfidf.fit_transform(df['review'].tolist())"
   ]
  },
  {
   "cell_type": "code",
   "execution_count": 12,
   "metadata": {
    "collapsed": false
   },
   "outputs": [],
   "source": [
    "logregg = LogisticRegression(C=1.0, class_weight='balanced', dual=False, fit_intercept=False,\n",
    "intercept_scaling=1, max_iter=100, multi_class='ovr',\n",
    "penalty='l2', random_state=None, solver='lbfgs', tol=0.0001,\n",
    "verbose=0)"
   ]
  },
  {
   "cell_type": "code",
   "execution_count": 13,
   "metadata": {
    "collapsed": false
   },
   "outputs": [
    {
     "data": {
      "text/plain": [
       "LogisticRegression(C=1.0, class_weight='balanced', dual=False,\n",
       "          fit_intercept=False, intercept_scaling=1, max_iter=100,\n",
       "          multi_class='ovr', n_jobs=1, penalty='l2', random_state=None,\n",
       "          solver='lbfgs', tol=0.0001, verbose=0, warm_start=False)"
      ]
     },
     "execution_count": 13,
     "metadata": {},
     "output_type": "execute_result"
    }
   ],
   "source": [
    "logregg.fit(X,Y)"
   ]
  },
  {
   "cell_type": "code",
   "execution_count": 14,
   "metadata": {
    "collapsed": false
   },
   "outputs": [],
   "source": [
    "score = cross_val_score(logregg, X, Y, scoring='accuracy').mean()"
   ]
  },
  {
   "cell_type": "code",
   "execution_count": 15,
   "metadata": {
    "collapsed": false
   },
   "outputs": [
    {
     "name": "stdout",
     "output_type": "stream",
     "text": [
      "accuracy: 0.882210500546\n"
     ]
    }
   ],
   "source": [
    "print('accuracy: ' + str(score))"
   ]
  },
  {
   "cell_type": "code",
   "execution_count": 16,
   "metadata": {
    "collapsed": false
   },
   "outputs": [
    {
     "name": "stdout",
     "output_type": "stream",
     "text": [
      "test data done\n"
     ]
    }
   ],
   "source": [
    "file_test = 'yelp_data_official_test_nocategories.csv'\n",
    "df_test = pd.DataFrame(columns=['id', 'review'])\n",
    "i = 0\n",
    "with open(file_test) as f:\n",
    "    f.readline()\n",
    "    for line in f:\n",
    "        line = line.rstrip('\\n').split('|')\n",
    "        if len(line) > 1:\n",
    "            if i != 0:\n",
    "                one_record['review'] = review\n",
    "                #print(one_record)\n",
    "                df_test = df_test.append(one_record, ignore_index=True)\n",
    "            if line[0] == str(i):\n",
    "                one_record = {}\n",
    "                one_record['id'] = int(line[0])\n",
    "                review = line[1]\n",
    "            i += 1\n",
    "            \n",
    "        else:\n",
    "            review += ' ' + line[0]           \n",
    "    one_record['review'] = review\n",
    "    df_test = df_test.append(one_record, ignore_index=True)\n",
    "print ('test data done')"
   ]
  },
  {
   "cell_type": "code",
   "execution_count": 17,
   "metadata": {
    "collapsed": true
   },
   "outputs": [],
   "source": [
    "def write_result(x, y, model, vect, version):\n",
    "    test_x, v = make_xy(df_test, vect, False)\n",
    "    model.fit(x, y)\n",
    "    y_predict = model.predict(test_x)\n",
    "    result = pd.DataFrame({'id': range(len(y_predict)), 'category': y_predict})\n",
    "\n",
    "    result[['id', 'category']] = result[['id', 'category']].astype(int)\n",
    "    result[['id', 'category']].to_csv('yelp_data_official_test_submission_' + version + '.csv', index=False)"
   ]
  },
  {
   "cell_type": "code",
   "execution_count": 18,
   "metadata": {
    "collapsed": true
   },
   "outputs": [],
   "source": [
    "write_result(X, Y, logregg, tfidf, 'v15')"
   ]
  },
  {
   "cell_type": "code",
   "execution_count": null,
   "metadata": {
    "collapsed": true
   },
   "outputs": [],
   "source": []
  }
 ],
 "metadata": {
  "anaconda-cloud": {},
  "kernelspec": {
   "display_name": "Python 3",
   "language": "python",
   "name": "python3"
  },
  "language_info": {
   "codemirror_mode": {
    "name": "ipython",
    "version": 3
   },
   "file_extension": ".py",
   "mimetype": "text/x-python",
   "name": "python",
   "nbconvert_exporter": "python",
   "pygments_lexer": "ipython3",
   "version": "3.4.5"
  }
 },
 "nbformat": 4,
 "nbformat_minor": 0
}
