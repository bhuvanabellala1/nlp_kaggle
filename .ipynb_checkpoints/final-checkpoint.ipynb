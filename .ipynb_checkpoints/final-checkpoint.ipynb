{
 "cells": [
  {
   "cell_type": "code",
   "execution_count": 65,
   "metadata": {
    "collapsed": true
   },
   "outputs": [],
   "source": [
    "import pandas as pd\n",
    "import numpy as np\n",
    "import matplotlib.pyplot as plt\n",
    "%matplotlib inline\n",
    "import nltk"
   ]
  },
  {
   "cell_type": "code",
   "execution_count": 66,
   "metadata": {
    "collapsed": false
   },
   "outputs": [
    {
     "data": {
      "text/html": [
       "<div>\n",
       "<table border=\"1\" class=\"dataframe\">\n",
       "  <thead>\n",
       "    <tr style=\"text-align: right;\">\n",
       "      <th></th>\n",
       "      <th>ID</th>\n",
       "      <th>Category</th>\n",
       "      <th>Review Text</th>\n",
       "    </tr>\n",
       "  </thead>\n",
       "  <tbody>\n",
       "    <tr>\n",
       "      <th>0</th>\n",
       "      <td>0</td>\n",
       "      <td>2</td>\n",
       "      <td>Don't waste your time.  We had two different p...</td>\n",
       "    </tr>\n",
       "    <tr>\n",
       "      <th>1</th>\n",
       "      <td>1</td>\n",
       "      <td>2</td>\n",
       "      <td>I will start by saying we have a nice new deck...</td>\n",
       "    </tr>\n",
       "    <tr>\n",
       "      <th>2</th>\n",
       "      <td>2</td>\n",
       "      <td>2</td>\n",
       "      <td>When I wanted a deck for the back of my home I...</td>\n",
       "    </tr>\n",
       "    <tr>\n",
       "      <th>3</th>\n",
       "      <td>3</td>\n",
       "      <td>5</td>\n",
       "      <td>Our cat went out the other night and must have...</td>\n",
       "    </tr>\n",
       "    <tr>\n",
       "      <th>4</th>\n",
       "      <td>4</td>\n",
       "      <td>5</td>\n",
       "      <td>Greentree Animal clinic is the absolute best! ...</td>\n",
       "    </tr>\n",
       "  </tbody>\n",
       "</table>\n",
       "</div>"
      ],
      "text/plain": [
       "   ID  Category                                        Review Text\n",
       "0   0         2  Don't waste your time.  We had two different p...\n",
       "1   1         2  I will start by saying we have a nice new deck...\n",
       "2   2         2  When I wanted a deck for the back of my home I...\n",
       "3   3         5  Our cat went out the other night and must have...\n",
       "4   4         5  Greentree Animal clinic is the absolute best! ..."
      ]
     },
     "execution_count": 66,
     "metadata": {},
     "output_type": "execute_result"
    }
   ],
   "source": [
    "#Read the csv file\n",
    "df = pd.read_csv(\"yelp_data_official_training.csv\", low_memory=False, delimiter='|')\n",
    "df.head()"
   ]
  },
  {
   "cell_type": "code",
   "execution_count": 67,
   "metadata": {
    "collapsed": false
   },
   "outputs": [
    {
     "data": {
      "text/html": [
       "<div>\n",
       "<table border=\"1\" class=\"dataframe\">\n",
       "  <thead>\n",
       "    <tr style=\"text-align: right;\">\n",
       "      <th></th>\n",
       "      <th>Category</th>\n",
       "      <th>Review Text</th>\n",
       "    </tr>\n",
       "  </thead>\n",
       "  <tbody>\n",
       "    <tr>\n",
       "      <th>0</th>\n",
       "      <td>2</td>\n",
       "      <td>Worst service ever!!! Do not go to this compan...</td>\n",
       "    </tr>\n",
       "    <tr>\n",
       "      <th>1</th>\n",
       "      <td>4</td>\n",
       "      <td>Bryant Pest Control is great.....the treatment...</td>\n",
       "    </tr>\n",
       "    <tr>\n",
       "      <th>2</th>\n",
       "      <td>1</td>\n",
       "      <td>Found this place via Yelp, decided to go get m...</td>\n",
       "    </tr>\n",
       "    <tr>\n",
       "      <th>3</th>\n",
       "      <td>2</td>\n",
       "      <td>JSM is timely, polite, friendly, and knowledge...</td>\n",
       "    </tr>\n",
       "    <tr>\n",
       "      <th>4</th>\n",
       "      <td>1</td>\n",
       "      <td>My friend wanted to get her first tattoo so I ...</td>\n",
       "    </tr>\n",
       "  </tbody>\n",
       "</table>\n",
       "</div>"
      ],
      "text/plain": [
       "   Category                                        Review Text\n",
       "0         2  Worst service ever!!! Do not go to this compan...\n",
       "1         4  Bryant Pest Control is great.....the treatment...\n",
       "2         1  Found this place via Yelp, decided to go get m...\n",
       "3         2  JSM is timely, polite, friendly, and knowledge...\n",
       "4         1  My friend wanted to get her first tattoo so I ..."
      ]
     },
     "execution_count": 67,
     "metadata": {},
     "output_type": "execute_result"
    }
   ],
   "source": [
    "#Take out NaN\n",
    "filtered_data = df[\"Review Text\"].notnull()\n",
    "df_filtered = df[filtered_data]\n",
    "\n",
    "#Shuffle the data\n",
    "random_index = np.random.permutation(df_filtered.index)\n",
    "df_shuffled = df.ix[random_index, ['Category', 'Review Text']]\n",
    "df_shuffled.reset_index(drop=True, inplace=True)\n",
    "df_shuffled[:5]"
   ]
  },
  {
   "cell_type": "code",
   "execution_count": 68,
   "metadata": {
    "collapsed": false
   },
   "outputs": [],
   "source": [
    "#Split the data into train and dev\n",
    "rows, columns = df_shuffled.shape\n",
    "train_size = round(rows*.7)\n",
    "dev_size   = round(rows*.3)\n",
    "\n",
    "\n",
    "df_train = df_shuffled.loc[:train_size]\n",
    "df_dev = df_shuffled.loc[train_size:dev_size+train_size].reset_index(drop=True)"
   ]
  },
  {
   "cell_type": "markdown",
   "metadata": {},
   "source": [
    "## Train the data"
   ]
  },
  {
   "cell_type": "code",
   "execution_count": 69,
   "metadata": {
    "collapsed": false
   },
   "outputs": [],
   "source": [
    "#features\n",
    "def unigram_feature(x, unigram):\n",
    "    if(type(x) == float):\n",
    "        print(x)\n",
    "    word_list = x.lower().split(\" \")\n",
    "    return word_list.count(unigram)\n",
    "\n",
    "def bigram_feature(x, bigram):\n",
    "    bigram_tuple = tuple(bigram.split())\n",
    "    word_list = x.lower().split(\" \")\n",
    "    bi = nltk.FreqDist(nltk.bigrams(word_list))\n",
    "    return bi[bigram_tuple]"
   ]
  },
  {
   "cell_type": "code",
   "execution_count": 70,
   "metadata": {
    "collapsed": false
   },
   "outputs": [],
   "source": [
    "#Running features on train set\n",
    "train_doctor_feature = df_train['Review Text'].apply(lambda x: unigram_feature(x, ('Dr')))"
   ]
  },
  {
   "cell_type": "code",
   "execution_count": 71,
   "metadata": {
    "collapsed": true
   },
   "outputs": [],
   "source": [
    "df_train_features = pd.DataFrame({'doctor': train_doctor_feature})"
   ]
  },
  {
   "cell_type": "code",
   "execution_count": 72,
   "metadata": {
    "collapsed": true
   },
   "outputs": [],
   "source": [
    "dev_doctor_feature = df_dev['Review Text'].apply(lambda x: unigram_feature(x, ('Dr')))"
   ]
  },
  {
   "cell_type": "code",
   "execution_count": 73,
   "metadata": {
    "collapsed": true
   },
   "outputs": [],
   "source": [
    "df_dev_features = pd.DataFrame({'doctor': dev_doctor_feature})"
   ]
  },
  {
   "cell_type": "markdown",
   "metadata": {},
   "source": [
    "##Build the model"
   ]
  },
  {
   "cell_type": "code",
   "execution_count": 74,
   "metadata": {
    "collapsed": false
   },
   "outputs": [
    {
     "data": {
      "text/plain": [
       "0.31611111111111112"
      ]
     },
     "execution_count": 74,
     "metadata": {},
     "output_type": "execute_result"
    }
   ],
   "source": [
    "from sklearn.naive_bayes import MultinomialNB\n",
    "from sklearn.metrics import accuracy_score\n",
    "\n",
    "nb = MultinomialNB()\n",
    "nb_model = nb.fit(df_train_features, df_train.Category)\n",
    "nb_predictions = nb_model.predict(df_dev_features)\n",
    "\n",
    "accuracy_score(df_dev.Category, nb_predictions)"
   ]
  },
  {
   "cell_type": "code",
   "execution_count": 75,
   "metadata": {
    "collapsed": false
   },
   "outputs": [
    {
     "data": {
      "text/html": [
       "<div>\n",
       "<table border=\"1\" class=\"dataframe\">\n",
       "  <thead>\n",
       "    <tr style=\"text-align: right;\">\n",
       "      <th></th>\n",
       "      <th>ID</th>\n",
       "      <th>Review Text</th>\n",
       "    </tr>\n",
       "  </thead>\n",
       "  <tbody>\n",
       "    <tr>\n",
       "      <th>0</th>\n",
       "      <td>0</td>\n",
       "      <td>We had the same doctor in Houston for over 12 ...</td>\n",
       "    </tr>\n",
       "    <tr>\n",
       "      <th>1</th>\n",
       "      <td>1</td>\n",
       "      <td>My mother passed away recently at the age of 9...</td>\n",
       "    </tr>\n",
       "    <tr>\n",
       "      <th>2</th>\n",
       "      <td>2</td>\n",
       "      <td>Updating! So, the dispute was resolved at this...</td>\n",
       "    </tr>\n",
       "    <tr>\n",
       "      <th>3</th>\n",
       "      <td>3</td>\n",
       "      <td>We just moved here from WA and are looking for...</td>\n",
       "    </tr>\n",
       "    <tr>\n",
       "      <th>4</th>\n",
       "      <td>4</td>\n",
       "      <td>They have lost the best of the best. The last ...</td>\n",
       "    </tr>\n",
       "  </tbody>\n",
       "</table>\n",
       "</div>"
      ],
      "text/plain": [
       "   ID                                        Review Text\n",
       "0   0  We had the same doctor in Houston for over 12 ...\n",
       "1   1  My mother passed away recently at the age of 9...\n",
       "2   2  Updating! So, the dispute was resolved at this...\n",
       "3   3  We just moved here from WA and are looking for...\n",
       "4   4  They have lost the best of the best. The last ..."
      ]
     },
     "execution_count": 75,
     "metadata": {},
     "output_type": "execute_result"
    }
   ],
   "source": [
    "df_test = pd.read_csv(\"yelp_data_official_test_nocategories.csv\", low_memory=False, delimiter='|')\n",
    "df_test.head()"
   ]
  },
  {
   "cell_type": "code",
   "execution_count": 82,
   "metadata": {
    "collapsed": false
   },
   "outputs": [],
   "source": [
    "test_doctor_feature = df_test['Review Text'].apply(lambda x: unigram_feature(x, ('Dr')))\n",
    "df_test_features = pd.DataFrame({'doctor': test_doctor_feature})\n",
    "nb_test_predictions = nb_model.predict(df_test_features)\n",
    "final_test_predictions = pd.DataFrame({'Category': nb_test_predictions})"
   ]
  },
  {
   "cell_type": "code",
   "execution_count": null,
   "metadata": {
    "collapsed": true
   },
   "outputs": [],
   "source": [
    "DataFrame.to_csv('yelp_data_official_test_submission.csv', header=True, index=True,)"
   ]
  }
 ],
 "metadata": {
  "kernelspec": {
   "display_name": "Python 3",
   "language": "python",
   "name": "python3"
  },
  "language_info": {
   "codemirror_mode": {
    "name": "ipython",
    "version": 3
   },
   "file_extension": ".py",
   "mimetype": "text/x-python",
   "name": "python",
   "nbconvert_exporter": "python",
   "pygments_lexer": "ipython3",
   "version": "3.4.3"
  }
 },
 "nbformat": 4,
 "nbformat_minor": 0
}
